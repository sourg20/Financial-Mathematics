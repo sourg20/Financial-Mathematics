{
 "cells": [
  {
   "cell_type": "code",
   "execution_count": 2,
   "id": "0aaffb88-0c31-4ea6-ab9e-b2c98ef20df6",
   "metadata": {},
   "outputs": [
    {
     "data": {
      "image/png": "[encoded data removed]",
      "text/plain": [
       "<Figure size 432x288 with 1 Axes>"
      ]
     },
     "metadata": {
      "needs_background": "light"
     },
     "output_type": "display_data"
    },
    {
     "name": "stdout",
     "output_type": "stream",
     "text": [
      "The value of K is 134.13 ¥ per €\n"
     ]
    }
   ],
   "source": [
    "import numpy as np\n",
    "import matplotlib.pyplot as plt\n",
    "from scipy.stats import norm\n",
    "from scipy.optimize import newton\n",
    "\n",
    "# Given values\n",
    "S = 133.95  # spot exchange rate\n",
    "r = 0.012  # risk-free rate for Yen\n",
    "T = 1  # time to maturity of the option\n",
    "sigma = 0.08  # exchange rate volatility\n",
    "K_2 = 140  # exercise price for the sold call options\n",
    "\n",
    "# Defining the functions d1 and d2\n",
    "def d1_func(S, K, r, T, sigma):\n",
    "    return (np.log(S/K) + (r + 0.5 * sigma**2) * T) / (sigma * np.sqrt(T))\n",
    "\n",
    "def d2_func(d1, sigma, T):\n",
    "    return d1 - sigma * np.sqrt(T)\n",
    "\n",
    "# Black-Scholes formula for a call option\n",
    "def call_price(S, K, r, T, sigma):\n",
    "    d1 = d1_func(S, K, r, T, sigma)\n",
    "    d2 = d2_func(d1, sigma, T)\n",
    "    return S * norm.cdf(d1) - K * np.exp(-r * T) * norm.cdf(d2)\n",
    "\n",
    "# The equation C(K) - S = 0\n",
    "def equation(K):\n",
    "    return call_price(S, K, r, T, sigma) - 2 * call_price(S, K_2, r, T, sigma)\n",
    "\n",
    "# Solving for K using the Newton-Raphson method\n",
    "K_1 = newton(equation, 130)  # starting with an initial guess of 130\n",
    "\n",
    "# Plotting the function\n",
    "K_values = np.linspace(130, 140, 100)  # range of K values\n",
    "equation_values = [equation(K) for K in K_values]  # corresponding equation values\n",
    "\n",
    "plt.plot(K_values, equation_values)\n",
    "plt.axhline(0, color='red', linestyle='--')  # horizontal line at y=0\n",
    "plt.xlabel('K')\n",
    "plt.ylabel('C(K) - S')\n",
    "plt.title('Graph of C(K) - S = 0')\n",
    "plt.grid(True)\n",
    "plt.show()\n",
    "\n",
    "print(f\"The value of K is {K_1:.2f} ¥ per €\")"
   ]
  },
  {
   "cell_type": "code",
   "execution_count": null,
   "id": "8768b375-47f2-4bdc-875c-8666398a3634",
   "metadata": {},
   "outputs": [],
   "source": []
  }
 ],
 "metadata": {
  "kernelspec": {
   "display_name": "Python 3 (ipykernel)",
   "language": "python",
   "name": "python3"
  },
  "language_info": {
   "codemirror_mode": {
    "name": "ipython",
    "version": 3
   },
   "file_extension": ".py",
   "mimetype": "text/x-python",
   "name": "python",
   "nbconvert_exporter": "python",
   "pygments_lexer": "ipython3",
   "version": "3.9.12"
  }
 },
 "nbformat": 4,
 "nbformat_minor": 5
}
